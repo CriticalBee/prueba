{
  "nbformat": 4,
  "nbformat_minor": 0,
  "metadata": {
    "colab": {
      "provenance": [],
      "mount_file_id": "1nO4vFWMXtLb-FYXBvKkSI3Gcsx_-F_w9",
      "authorship_tag": "ABX9TyNSdgTPiK7NNG0LfUgE6a7P",
      "include_colab_link": true
    },
    "kernelspec": {
      "name": "python3",
      "display_name": "Python 3"
    },
    "language_info": {
      "name": "python"
    }
  },
  "cells": [
    {
      "cell_type": "markdown",
      "metadata": {
        "id": "view-in-github",
        "colab_type": "text"
      },
      "source": [
        "<a href=\"https://colab.research.google.com/github/CriticalBee/prueba/blob/main/DS_C2_SC2_CHRISTIAN_RAUL_VALERO_GUTIERREZ.ipynb\" target=\"_parent\"><img src=\"https://colab.research.google.com/assets/colab-badge.svg\" alt=\"Open In Colab\"/></a>"
      ]
    },
    {
      "cell_type": "code",
      "execution_count": 42,
      "metadata": {
        "colab": {
          "base_uri": "https://localhost:8080/"
        },
        "id": "xFCXu21Omt4t",
        "outputId": "f63a8bc2-b09e-46df-b89e-78d40639f1a2"
      },
      "outputs": [
        {
          "output_type": "stream",
          "name": "stdout",
          "text": [
            "<class 'pandas.core.frame.DataFrame'>\n",
            "RangeIndex: 86512 entries, 0 to 86511\n",
            "Data columns (total 15 columns):\n",
            " #   Column                               Non-Null Count  Dtype         \n",
            "---  ------                               --------------  -----         \n",
            " 0   country                              86512 non-null  object        \n",
            " 1   iso_code                             86512 non-null  object        \n",
            " 2   date                                 86512 non-null  datetime64[ns]\n",
            " 3   total_vaccinations                   43607 non-null  float64       \n",
            " 4   people_vaccinated                    41294 non-null  float64       \n",
            " 5   people_fully_vaccinated              38802 non-null  float64       \n",
            " 6   daily_vaccinations_raw               35362 non-null  float64       \n",
            " 7   daily_vaccinations                   86213 non-null  float64       \n",
            " 8   total_vaccinations_per_hundred       43607 non-null  float64       \n",
            " 9   people_vaccinated_per_hundred        41294 non-null  float64       \n",
            " 10  people_fully_vaccinated_per_hundred  38802 non-null  float64       \n",
            " 11  daily_vaccinations_per_million       86213 non-null  float64       \n",
            " 12  vaccines                             86512 non-null  object        \n",
            " 13  source_name                          86512 non-null  object        \n",
            " 14  source_website                       86512 non-null  object        \n",
            "dtypes: datetime64[ns](1), float64(9), object(5)\n",
            "memory usage: 9.9+ MB\n",
            "Las vacunas aplicadas de cada compañia: \n",
            "                                                     daily_vaccinations\n",
            "vaccines                                                              \n",
            "Abdala, Johnson&Johnson, Oxford/AstraZeneca, Pf...           9616160.0\n",
            "Abdala, Moderna, Oxford/AstraZeneca, Pfizer/Bio...         201816053.0\n",
            "Abdala, Sinopharm/Beijing, Sinovac, Soberana02,...          37861146.0\n",
            "Abdala, Soberana Plus, Soberana02                           33802957.0\n",
            "COVIran Barekat, Covaxin, FAKHRAVAC, Oxford/Ast...         146357015.0\n",
            "...                                                                ...\n",
            "Pfizer/BioNTech, Sinovac, Turkovac                         147484328.0\n",
            "Pfizer/BioNTech, Sputnik V                                     68643.0\n",
            "QazVac, Sinopharm/Beijing, Sputnik V                        20891256.0\n",
            "Sinopharm/Beijing                                             893824.0\n",
            "Sinopharm/Beijing, Sputnik V                                14398697.0\n",
            "\n",
            "[84 rows x 1 columns]\n",
            "El total de vacunas aplicadas en todo el mundo: \n",
            " 11320239871.0\n",
            "El promedio de vacunas por país: \n",
            "                    daily_vaccinations\n",
            "country                              \n",
            "Afghanistan              14610.681934\n",
            "Albania                   6276.210046\n",
            "Algeria                  33904.356436\n",
            "Andorra                    367.716019\n",
            "Angola                   44821.457584\n",
            "...                               ...\n",
            "Wales                    15518.411765\n",
            "Wallis and Futuna           33.886486\n",
            "Yemen                     2556.115756\n",
            "Zambia                    9649.805158\n",
            "Zimbabwe                 21669.066832\n",
            "\n",
            "[223 rows x 1 columns]\n",
            "Las vacunas aplicadas el día 29/01/2021 en todo el mundo fueron: 4884052.0\n",
            "La fecha más reciente es:  2022-03-29 00:00:00\n",
            "La fecha más antigua es:  2020-12-02 00:00:00\n"
          ]
        }
      ],
      "source": [
        "from pickle import FALSE\n",
        "# Autor: Christian Raúl Valero Gutiérrez\n",
        "# Reto - Análisis del progreso mundial de vacunación\n",
        "\n",
        "#PASO 1: Extraer la información del archivo.\n",
        "import pandas as pd\n",
        "import numpy as np\n",
        "vacunas = pd.read_csv('/content/drive/MyDrive/Cursos/Programación en Python: The Learning Gate/0.8ddpr74xw650.udno6l076vcountry_vaccinations.csv')\n",
        "\n",
        "#PASO 2: Mostrar la estructura y tipos de datos de cada columna para identificar qué operaciones puedes realizar con cada una de ellas, asegurándote que las columnas con fechas sean del tipo datetime64.\n",
        "vacunas['date'] = pd.to_datetime(vacunas['date'])\n",
        "vacunas.info()\n",
        "\n",
        "#PASO 3: Determinar la cantidad de vacunas aplicadas de cada compañía (con base en cómo lo reporta cada país en la columna vaccines, en otras palabras, agrupe por vaccines y realice la sumatoria).\n",
        "#   En este caso no podemos saber exactamente cuantas se aplicaron de cada compañia en el día ya que los datos engloban a un las que se aplicaron en total.\n",
        "print('Las vacunas aplicadas de cada compañia: \\n', vacunas[['daily_vaccinations','vaccines']].groupby('vaccines').sum())\n",
        "\n",
        "#PASO 4: Obtener la cantidad de vacunas aplicadas en todo el mundo.\n",
        "print('El total de vacunas aplicadas en todo el mundo: \\n', vacunas['daily_vaccinations'].sum())\n",
        "\n",
        "#PASO 5: Calcular el promedio de vacunas aplicadas por país.\n",
        "print('El promedio de vacunas por país: \\n', vacunas[['country','daily_vaccinations']].groupby('country').mean())\n",
        "\n",
        "#PASO 6: Determinar la cantidad de vacunas aplicadas el día 29/01/21 en todo el mundo.\n",
        "vacunas_29_01_21 = vacunas[vacunas['date'] == \"2021-01-29\"]['daily_vaccinations'].sum()\n",
        "print('Las vacunas aplicadas el día 29/01/2021 en todo el mundo fueron:', vacunas_29_01_21)\n",
        "\n",
        "#PASO 7: Crear un dataframe nuevo denominado conDiferencias que contenga los datos originales y una columna derivada (diferencias) con las diferencias de aplicación entre las columnas daily_vaccionations y daily_vaccionations_raw.\n",
        "conDiferencias = vacunas\n",
        "conDiferencias['diferencias'] = conDiferencias['daily_vaccinations'] - conDiferencias['daily_vaccinations_raw']\n",
        "print('DataFrame conDiferecnias: \\n', conDiferencias)\n",
        "\n",
        "#PASO 8: Obtener el periodo de tiempo entre el registro con fecha más reciente y el registro con fecha más antigua.\n",
        "print('La fecha más reciente es: ', vacunas['date'].max())\n",
        "print('La fecha más antigua es: ', vacunas['date'].min())\n",
        "\n",
        "#PASO 9: Crear un dataframe nuevo denominado conCantidad que contenga los datos originales y una columna derivada (canVac) con la cantidad de vacunas utilizadas cada día (usar la columna vaccines y separar por el carácter , ).\n",
        "conCantidad = vacunas\n",
        "conCantidad['canVac'] = conCantidad['vaccines'].str.split(',').str.len()\n",
        "print('DataFrame conCantidad: \\n', conCantidad)\n",
        "\n",
        "#PASO 10: Generar un dataframe denominado antes20 con todos los registros que se hayan realizado antes del 20 de diciembre de 2020.\n",
        "antes20 = vacunas.query('date <= \"2020-12-20\"')\n",
        "print('DataFrame antes20: \\n', antes20)\n",
        "\n",
        "#PASO 11: Obtener un dataframe denominado pfizer con todos los registros donde se haya utilizado la vacuna Pfizer.\n",
        "pfizer = vacunas[vacunas['vaccines'].str.contains('pfizer', case = False)]\n",
        "print('DataFrame pfizer: \\n', pfizer)\n",
        "\n",
        "#PASO 12: Almacenar los dataframes generados (conDiferencias, conCantidad, antes20 y pfizer) en un archivo de Excel denominado resultadosReto.xlsx, donde cada dataframe ocupe una hoja diferente. Se recomienda ver la documentación de pd.ExcelWriter.\n",
        "with pd.ExcelWriter(\"/content/drive/MyDrive/Cursos/Programación en Python: The Learning Gate/resultadosReto.xlsx\") as writer:\n",
        "    conDiferencias.to_excel(writer, sheet_name=\"conDiferencias\")\n",
        "    conCantidad.to_excel(writer, sheet_name=\"conCantidad\")\n",
        "    antes20.to_excel(writer, sheet_name=\"antes20\")\n",
        "    pfizer.to_excel(writer, sheet_name=\"pfizer\")\n",
        "\n"
      ]
    }
  ]
}